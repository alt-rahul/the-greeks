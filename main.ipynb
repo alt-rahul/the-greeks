{
 "cells": [
  {
   "cell_type": "code",
   "execution_count": 1,
   "metadata": {},
   "outputs": [],
   "source": [
    "import numpy as np\n",
    "import torch\n",
    "import torch.nn as nn\n",
    "from torch.utils.data import DataLoader \n",
    "import matplotlib.pyplot as plt\n",
    "import pandas as pd\n",
    "import polars as pl"
   ]
  },
  {
   "cell_type": "code",
   "execution_count": 2,
   "metadata": {},
   "outputs": [
    {
     "data": {
      "text/html": [
       "<div>\n",
       "<style scoped>\n",
       "    .dataframe tbody tr th:only-of-type {\n",
       "        vertical-align: middle;\n",
       "    }\n",
       "\n",
       "    .dataframe tbody tr th {\n",
       "        vertical-align: top;\n",
       "    }\n",
       "\n",
       "    .dataframe thead th {\n",
       "        text-align: right;\n",
       "    }\n",
       "</style>\n",
       "<table border=\"1\" class=\"dataframe\">\n",
       "  <thead>\n",
       "    <tr style=\"text-align: right;\">\n",
       "      <th></th>\n",
       "      <th>date</th>\n",
       "      <th>act_symbol</th>\n",
       "      <th>expiration</th>\n",
       "      <th>strike</th>\n",
       "      <th>call_put</th>\n",
       "      <th>bid</th>\n",
       "      <th>ask</th>\n",
       "      <th>vol</th>\n",
       "      <th>delta</th>\n",
       "      <th>gamma</th>\n",
       "      <th>theta</th>\n",
       "      <th>vega</th>\n",
       "      <th>rho</th>\n",
       "    </tr>\n",
       "  </thead>\n",
       "  <tbody>\n",
       "    <tr>\n",
       "      <th>0</th>\n",
       "      <td>2019-02-09</td>\n",
       "      <td>A</td>\n",
       "      <td>2019-02-15</td>\n",
       "      <td>65.0</td>\n",
       "      <td>Call</td>\n",
       "      <td>10.50</td>\n",
       "      <td>11.25</td>\n",
       "      <td>0.2705</td>\n",
       "      <td>1.0000</td>\n",
       "      <td>0.0000</td>\n",
       "      <td>-0.0046</td>\n",
       "      <td>0.0000</td>\n",
       "      <td>0.0124</td>\n",
       "    </tr>\n",
       "    <tr>\n",
       "      <th>1</th>\n",
       "      <td>2019-02-09</td>\n",
       "      <td>A</td>\n",
       "      <td>2019-02-15</td>\n",
       "      <td>65.0</td>\n",
       "      <td>Put</td>\n",
       "      <td>0.00</td>\n",
       "      <td>0.03</td>\n",
       "      <td>0.3133</td>\n",
       "      <td>-0.0002</td>\n",
       "      <td>0.0002</td>\n",
       "      <td>-0.0002</td>\n",
       "      <td>0.0001</td>\n",
       "      <td>0.0000</td>\n",
       "    </tr>\n",
       "    <tr>\n",
       "      <th>2</th>\n",
       "      <td>2019-02-09</td>\n",
       "      <td>A</td>\n",
       "      <td>2019-02-15</td>\n",
       "      <td>67.5</td>\n",
       "      <td>Call</td>\n",
       "      <td>8.15</td>\n",
       "      <td>8.50</td>\n",
       "      <td>0.2705</td>\n",
       "      <td>0.9991</td>\n",
       "      <td>0.0010</td>\n",
       "      <td>-0.0053</td>\n",
       "      <td>0.0003</td>\n",
       "      <td>0.0129</td>\n",
       "    </tr>\n",
       "    <tr>\n",
       "      <th>3</th>\n",
       "      <td>2019-02-09</td>\n",
       "      <td>A</td>\n",
       "      <td>2019-02-15</td>\n",
       "      <td>67.5</td>\n",
       "      <td>Put</td>\n",
       "      <td>0.00</td>\n",
       "      <td>0.03</td>\n",
       "      <td>0.3133</td>\n",
       "      <td>-0.0034</td>\n",
       "      <td>0.0031</td>\n",
       "      <td>-0.0024</td>\n",
       "      <td>0.0011</td>\n",
       "      <td>0.0000</td>\n",
       "    </tr>\n",
       "    <tr>\n",
       "      <th>4</th>\n",
       "      <td>2019-02-09</td>\n",
       "      <td>A</td>\n",
       "      <td>2019-02-15</td>\n",
       "      <td>70.0</td>\n",
       "      <td>Call</td>\n",
       "      <td>5.70</td>\n",
       "      <td>6.00</td>\n",
       "      <td>0.2705</td>\n",
       "      <td>0.9845</td>\n",
       "      <td>0.0137</td>\n",
       "      <td>-0.0127</td>\n",
       "      <td>0.0041</td>\n",
       "      <td>0.0132</td>\n",
       "    </tr>\n",
       "  </tbody>\n",
       "</table>\n",
       "</div>"
      ],
      "text/plain": [
       "         date act_symbol  expiration  strike call_put    bid    ask     vol  \\\n",
       "0  2019-02-09          A  2019-02-15    65.0     Call  10.50  11.25  0.2705   \n",
       "1  2019-02-09          A  2019-02-15    65.0      Put   0.00   0.03  0.3133   \n",
       "2  2019-02-09          A  2019-02-15    67.5     Call   8.15   8.50  0.2705   \n",
       "3  2019-02-09          A  2019-02-15    67.5      Put   0.00   0.03  0.3133   \n",
       "4  2019-02-09          A  2019-02-15    70.0     Call   5.70   6.00  0.2705   \n",
       "\n",
       "    delta   gamma   theta    vega     rho  \n",
       "0  1.0000  0.0000 -0.0046  0.0000  0.0124  \n",
       "1 -0.0002  0.0002 -0.0002  0.0001  0.0000  \n",
       "2  0.9991  0.0010 -0.0053  0.0003  0.0129  \n",
       "3 -0.0034  0.0031 -0.0024  0.0011  0.0000  \n",
       "4  0.9845  0.0137 -0.0127  0.0041  0.0132  "
      ]
     },
     "execution_count": 2,
     "metadata": {},
     "output_type": "execute_result"
    }
   ],
   "source": [
    "option_chain = pd.read_csv(\"options_data.csv\")\n",
    "option_chain.head()"
   ]
  },
  {
   "cell_type": "code",
   "execution_count": 3,
   "metadata": {},
   "outputs": [],
   "source": [
    "option_chain['date'] = pd.to_datetime(option_chain['date'])\n",
    "option_chain['expiration'] = pd.to_datetime(option_chain['expiration'])"
   ]
  },
  {
   "cell_type": "code",
   "execution_count": 4,
   "metadata": {},
   "outputs": [],
   "source": [
    "dates_num = pd.to_numeric(option_chain['date'])\n",
    "exp_num = pd.to_numeric(option_chain['expiration'])"
   ]
  },
  {
   "cell_type": "code",
   "execution_count": 5,
   "metadata": {},
   "outputs": [],
   "source": [
    "dates_num /= max(dates_num)\n",
    "exp_num /= max(exp_num)"
   ]
  },
  {
   "cell_type": "code",
   "execution_count": 6,
   "metadata": {},
   "outputs": [
    {
     "data": {
      "text/plain": [
       "76999910"
      ]
     },
     "execution_count": 6,
     "metadata": {},
     "output_type": "execute_result"
    }
   ],
   "source": [
    "len(option_chain)"
   ]
  },
  {
   "cell_type": "code",
   "execution_count": 11,
   "metadata": {},
   "outputs": [],
   "source": [
    "option_chain['dates'] = dates_num\n",
    "option_chain['expiration'] = exp_num"
   ]
  },
  {
   "cell_type": "code",
   "execution_count": 15,
   "metadata": {},
   "outputs": [],
   "source": [
    "option_chain['date'] = dates_num\n",
    "option_chain.drop(columns=['dates'], inplace=True)"
   ]
  },
  {
   "cell_type": "code",
   "execution_count": 16,
   "metadata": {},
   "outputs": [],
   "source": [
    "from sklearn.tree import DecisionTreeRegressor\n",
    "from sklearn.model_selection import train_test_split\n",
    "from sklearn.linear_model import Lasso, LinearRegression"
   ]
  },
  {
   "cell_type": "code",
   "execution_count": null,
   "metadata": {},
   "outputs": [],
   "source": []
  }
 ],
 "metadata": {
  "kernelspec": {
   "display_name": "base",
   "language": "python",
   "name": "python3"
  },
  "language_info": {
   "codemirror_mode": {
    "name": "ipython",
    "version": 3
   },
   "file_extension": ".py",
   "mimetype": "text/x-python",
   "name": "python",
   "nbconvert_exporter": "python",
   "pygments_lexer": "ipython3",
   "version": "3.12.7"
  }
 },
 "nbformat": 4,
 "nbformat_minor": 2
}
