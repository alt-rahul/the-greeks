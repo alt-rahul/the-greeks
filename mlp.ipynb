{
 "cells": [
  {
   "cell_type": "code",
   "execution_count": 196,
   "id": "32898664",
   "metadata": {},
   "outputs": [],
   "source": [
    "import torch \n",
    "import torch.nn as nn\n",
    "import numpy as np\n",
    "import pandas as pd\n",
    "import yfinance as yf"
   ]
  },
  {
   "cell_type": "code",
   "execution_count": 197,
   "id": "aa148476",
   "metadata": {},
   "outputs": [],
   "source": [
    "tsla = yf.Ticker(\"tsla\")\n",
    "\n",
    "tsla_hist = tsla.history(period='5y', interval='1d', end='2025-06-13')\n",
    "# tsla_hist"
   ]
  },
  {
   "cell_type": "code",
   "execution_count": 198,
   "id": "61b36e0e",
   "metadata": {},
   "outputs": [],
   "source": [
    "tsla_hist.drop(columns=['Dividends', 'Stock Splits'], inplace=True)"
   ]
  },
  {
   "cell_type": "code",
   "execution_count": 199,
   "id": "6e3f8550",
   "metadata": {},
   "outputs": [],
   "source": [
    "tsla_hist.index =pd.to_numeric(tsla_hist.index)\n",
    "tsla_hist.index = tsla_hist.index/(max(tsla_hist.index)) + 1"
   ]
  },
  {
   "cell_type": "code",
   "execution_count": 200,
   "id": "4f0799a5",
   "metadata": {},
   "outputs": [],
   "source": [
    "for col in tsla_hist.columns:\n",
    "    tsla_hist[col] = tsla_hist[col]/max(tsla_hist[col]) + 1"
   ]
  },
  {
   "cell_type": "code",
   "execution_count": 201,
   "id": "190d232b",
   "metadata": {},
   "outputs": [],
   "source": [
    "X = tsla_hist.drop(columns=['Close'])\n",
    "y = tsla_hist['Close']"
   ]
  },
  {
   "cell_type": "code",
   "execution_count": 202,
   "id": "3f8e18b0",
   "metadata": {},
   "outputs": [],
   "source": [
    "X['Date'] = X.index"
   ]
  },
  {
   "cell_type": "code",
   "execution_count": 203,
   "id": "3ba02489",
   "metadata": {},
   "outputs": [],
   "source": [
    "for delay in range(1,4):\n",
    "    X[f\"Delay {delay}\"] = y.iloc[(3-delay):-(delay)]"
   ]
  },
  {
   "cell_type": "code",
   "execution_count": 204,
   "id": "0bbb3c0b",
   "metadata": {},
   "outputs": [],
   "source": [
    "X_sample = [[d, h, l, o, vol, v1, v2, v3] for d, h, l, o, vol, v1, v2, v3 in zip(X['Date'].iloc[3:].values, X['High'].iloc[3:].values, X['Low'].iloc[3:].values,X['Open'].iloc[3:].values, X['Volume'].iloc[3:].values, X['Delay 1'].dropna().values, X['Delay 2'].dropna().values, X['Delay 3'].dropna().values)]\n",
    "y_sample = y.iloc[3:].values"
   ]
  },
  {
   "cell_type": "code",
   "execution_count": 205,
   "id": "d7e29845",
   "metadata": {},
   "outputs": [
    {
     "data": {
      "text/plain": [
       "(1252, 1252)"
      ]
     },
     "execution_count": 205,
     "metadata": {},
     "output_type": "execute_result"
    }
   ],
   "source": [
    "len(X['Date'].iloc[3:].values), len(X_sample)"
   ]
  },
  {
   "cell_type": "code",
   "execution_count": 206,
   "id": "934a728f",
   "metadata": {},
   "outputs": [
    {
     "data": {
      "text/plain": [
       "(1252, 1252)"
      ]
     },
     "execution_count": 206,
     "metadata": {},
     "output_type": "execute_result"
    }
   ],
   "source": [
    "len(y_sample), len(X_sample)"
   ]
  },
  {
   "cell_type": "code",
   "execution_count": 207,
   "id": "9cf23983",
   "metadata": {},
   "outputs": [],
   "source": [
    "torch.set_default_dtype(torch.float64)"
   ]
  },
  {
   "cell_type": "code",
   "execution_count": 225,
   "id": "33265382",
   "metadata": {},
   "outputs": [],
   "source": [
    "X = torch.from_numpy(np.array(X))\n",
    "y = torch.from_numpy(np.array(y))"
   ]
  },
  {
   "cell_type": "code",
   "execution_count": 209,
   "id": "e53489db",
   "metadata": {},
   "outputs": [],
   "source": [
    "from sklearn.model_selection import train_test_split\n",
    "\n",
    "X_train, X_test, y_train, y_test = train_test_split(X, y, test_size=0.2)"
   ]
  },
  {
   "cell_type": "code",
   "execution_count": 210,
   "id": "7c6221ec",
   "metadata": {},
   "outputs": [],
   "source": [
    "train_data = [(X,y) for X, y in zip(X[:-273], y[:-273])]\n",
    "test_data = [(X,y) for X, y in zip(X[-273:], y[-273:])]"
   ]
  },
  {
   "cell_type": "code",
   "execution_count": 211,
   "id": "4fc7187c",
   "metadata": {},
   "outputs": [],
   "source": [
    "# train_data = pd.DataFrame(train_data)\n",
    "# train_data.iloc[0, 0] = torch.nan_to_num(train_data.iloc[0, 0], nan=1)"
   ]
  },
  {
   "cell_type": "code",
   "execution_count": 229,
   "id": "24f2ed68",
   "metadata": {},
   "outputs": [],
   "source": [
    "temp_tensor = train_data[0][0]\n",
    "temp_tensor = torch.nan_to_num(temp_tensor, nan=1)\n",
    "temp_tuple_1 = (temp_tensor, train_data[0][1])\n",
    "\n",
    "\n",
    "temp_tensor = train_data[1][0]\n",
    "temp_tensor = torch.nan_to_num(temp_tensor, nan=1)\n",
    "temp_tuple_2 = (temp_tensor, train_data[1][1])"
   ]
  },
  {
   "cell_type": "code",
   "execution_count": 231,
   "id": "ace6e6d6",
   "metadata": {},
   "outputs": [],
   "source": [
    "train_data[0] = temp_tuple_1\n",
    "train_data[1] = temp_tuple_2"
   ]
  },
  {
   "cell_type": "code",
   "execution_count": 232,
   "id": "266a8097",
   "metadata": {},
   "outputs": [],
   "source": [
    "from torch.utils.data import DataLoader\n",
    "\n",
    "train_dataloader = DataLoader(train_data, batch_size=32,)\n",
    "test_dataloader= DataLoader(test_data, batch_size=32,)"
   ]
  },
  {
   "cell_type": "code",
   "execution_count": 233,
   "id": "e9a33041",
   "metadata": {},
   "outputs": [],
   "source": [
    "count = 0\n",
    "batch = 0\n",
    "for (X, y) in train_dataloader:\n",
    "    if (torch.any(X.isnan())):\n",
    "        print(f\"Found on batch: {batch}\")\n",
    "        print(X)\n",
    "        print(torch.nan_to_num(X, nan=0))\n",
    "        count+=1\n",
    "    batch +=1\n"
   ]
  },
  {
   "cell_type": "code",
   "execution_count": 234,
   "id": "3c092330",
   "metadata": {},
   "outputs": [],
   "source": [
    "class MLP(nn.Module):\n",
    "    def __init__(self, input_features, hidden_features, output_features):\n",
    "        super().__init__()\n",
    "        self.l1 = nn.Sequential(\n",
    "            nn.Linear(input_features, hidden_features),\n",
    "            nn.ReLU()\n",
    "        )\n",
    "        self.l2 = nn.Sequential(\n",
    "            nn.Linear(hidden_features, 15),\n",
    "            nn.ReLU()\n",
    "        )\n",
    "        self.l3 = nn.Linear(15, output_features)\n",
    "\n",
    "    def forward(self, x):\n",
    "        x = self.l1(x)\n",
    "        x = self.l2(x)\n",
    "        x = self.l3(x)\n",
    "        return x"
   ]
  },
  {
   "cell_type": "code",
   "execution_count": 235,
   "id": "d68cb6b9",
   "metadata": {},
   "outputs": [],
   "source": [
    "mlpmodel = MLP(8, 30, 1)"
   ]
  },
  {
   "cell_type": "code",
   "execution_count": 236,
   "id": "3b7d0d82",
   "metadata": {},
   "outputs": [],
   "source": [
    "loss_fn = nn.MSELoss()\n",
    "\n",
    "optimizer = torch.optim.SGD(params=mlpmodel.parameters(), lr=1.e-6)"
   ]
  },
  {
   "cell_type": "code",
   "execution_count": 237,
   "id": "943158f6",
   "metadata": {},
   "outputs": [
    {
     "name": "stdout",
     "output_type": "stream",
     "text": [
      "We're on batch: 0 + Loss: inf\n",
      "We're on batch: 1 + Loss: 3.6507781481468173\n",
      "We're on batch: 2 + Loss: 2.823217250793199\n",
      "We're on batch: 3 + Loss: 2.6390050531504645\n",
      "We're on batch: 4 + Loss: 2.6906286357931593\n",
      "We're on batch: 5 + Loss: 2.677681759704383\n",
      "We're on batch: 6 + Loss: 2.6626820282194426\n",
      "We're on batch: 7 + Loss: 2.625071839342609\n",
      "We're on batch: 8 + Loss: 2.615293621645703\n",
      "We're on batch: 9 + Loss: 2.621663422529583\n",
      "We're on batch: 10 + Loss: 2.67928995345358\n",
      "We're on batch: 11 + Loss: 2.7497493879035444\n",
      "We're on batch: 12 + Loss: 2.7962747475221836\n",
      "We're on batch: 13 + Loss: 2.8167583257053486\n",
      "We're on batch: 14 + Loss: 2.8433391785413624\n",
      "We're on batch: 15 + Loss: 2.828229042726046\n",
      "We're on batch: 16 + Loss: 2.831372703437945\n",
      "We're on batch: 17 + Loss: 2.840786615263965\n",
      "We're on batch: 18 + Loss: 2.820612935229421\n",
      "We're on batch: 19 + Loss: 2.7832455422079745\n",
      "We're on batch: 20 + Loss: 2.752139836026702\n",
      "We're on batch: 21 + Loss: 2.7319554190145263\n",
      "We're on batch: 22 + Loss: 2.7077155486450883\n",
      "We're on batch: 23 + Loss: 2.7070450415639824\n",
      "We're on batch: 24 + Loss: 2.709365909785317\n",
      "We're on batch: 25 + Loss: 2.7119505247909625\n",
      "We're on batch: 26 + Loss: 2.7065798011932327\n",
      "We're on batch: 27 + Loss: 2.705935403650651\n",
      "We're on batch: 28 + Loss: 2.6936498081361475\n",
      "We're on batch: 29 + Loss: 2.6771137620223335\n",
      "We're on batch: 30 + Loss: 2.660387219882264\n"
     ]
    }
   ],
   "source": [
    "EPOCHS = 1\n",
    "\n",
    "mlpmodel.train()\n",
    "for epoch in range(EPOCHS):\n",
    "    total_loss = 0\n",
    "    for batch, (X, y) in enumerate(train_dataloader):\n",
    "        preds = mlpmodel(X)\n",
    "        # print(f\"Preds + {preds}\")\n",
    "        loss = loss_fn(torch.unsqueeze(y, 1), preds)\n",
    "        total_loss+= loss\n",
    "        optimizer.zero_grad()\n",
    "        loss.backward()\n",
    "        optimizer.step()\n",
    "\n",
    "        print(f\"We're on batch: {batch} + Loss: {total_loss/batch}\")\n"
   ]
  },
  {
   "cell_type": "code",
   "execution_count": null,
   "id": "1949d848",
   "metadata": {},
   "outputs": [],
   "source": []
  }
 ],
 "metadata": {
  "kernelspec": {
   "display_name": "base",
   "language": "python",
   "name": "python3"
  },
  "language_info": {
   "codemirror_mode": {
    "name": "ipython",
    "version": 3
   },
   "file_extension": ".py",
   "mimetype": "text/x-python",
   "name": "python",
   "nbconvert_exporter": "python",
   "pygments_lexer": "ipython3",
   "version": "3.12.7"
  }
 },
 "nbformat": 4,
 "nbformat_minor": 5
}
