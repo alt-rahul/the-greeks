{
 "cells": [
  {
   "cell_type": "code",
   "execution_count": null,
   "id": "32898664",
   "metadata": {},
   "outputs": [],
   "source": [
    "import torch \n",
    "import torch.nn as nn\n",
    "import numpy as np\n",
    "import pandas as pd\n",
    "import yfinance as yf"
   ]
  },
  {
   "cell_type": "code",
   "execution_count": null,
   "id": "aa148476",
   "metadata": {},
   "outputs": [],
   "source": [
    "tsla = yf.Ticker(\"tsla\")\n",
    "\n",
    "tsla_hist = tsla.history(period='5y', interval='1d', start='2020-01-01')\n",
    "tsla_hist"
   ]
  },
  {
   "cell_type": "code",
   "execution_count": null,
   "id": "61b36e0e",
   "metadata": {},
   "outputs": [],
   "source": [
    "tsla_hist.drop(columns=['Dividends', 'Stock Splits'], inplace=True)"
   ]
  },
  {
   "cell_type": "code",
   "execution_count": null,
   "id": "6e3f8550",
   "metadata": {},
   "outputs": [],
   "source": [
    "tsla_hist.index =pd.to_numeric(tsla_hist.index)\n",
    "tsla_hist.index = tsla_hist.index/(max(tsla_hist.index))"
   ]
  },
  {
   "cell_type": "code",
   "execution_count": 10,
   "id": "4f0799a5",
   "metadata": {},
   "outputs": [],
   "source": [
    "for col in tsla_hist.columns:\n",
    "    tsla_hist[col] = tsla_hist[col]/max(tsla_hist[col])"
   ]
  },
  {
   "cell_type": "code",
   "execution_count": 11,
   "id": "745de128",
   "metadata": {},
   "outputs": [
    {
     "data": {
      "text/html": [
       "<div>\n",
       "<style scoped>\n",
       "    .dataframe tbody tr th:only-of-type {\n",
       "        vertical-align: middle;\n",
       "    }\n",
       "\n",
       "    .dataframe tbody tr th {\n",
       "        vertical-align: top;\n",
       "    }\n",
       "\n",
       "    .dataframe thead th {\n",
       "        text-align: right;\n",
       "    }\n",
       "</style>\n",
       "<table border=\"1\" class=\"dataframe\">\n",
       "  <thead>\n",
       "    <tr style=\"text-align: right;\">\n",
       "      <th></th>\n",
       "      <th>Open</th>\n",
       "      <th>High</th>\n",
       "      <th>Low</th>\n",
       "      <th>Close</th>\n",
       "      <th>Volume</th>\n",
       "    </tr>\n",
       "    <tr>\n",
       "      <th>Date</th>\n",
       "      <th></th>\n",
       "      <th></th>\n",
       "      <th></th>\n",
       "      <th></th>\n",
       "      <th></th>\n",
       "    </tr>\n",
       "  </thead>\n",
       "  <tbody>\n",
       "    <tr>\n",
       "      <th>0.902102</th>\n",
       "      <td>0.059466</td>\n",
       "      <td>0.058774</td>\n",
       "      <td>0.061450</td>\n",
       "      <td>0.059776</td>\n",
       "      <td>0.156421</td>\n",
       "    </tr>\n",
       "    <tr>\n",
       "      <th>0.902152</th>\n",
       "      <td>0.061708</td>\n",
       "      <td>0.061953</td>\n",
       "      <td>0.063666</td>\n",
       "      <td>0.061547</td>\n",
       "      <td>0.291744</td>\n",
       "    </tr>\n",
       "    <tr>\n",
       "      <th>0.902300</th>\n",
       "      <td>0.061703</td>\n",
       "      <td>0.061620</td>\n",
       "      <td>0.064115</td>\n",
       "      <td>0.062732</td>\n",
       "      <td>0.166282</td>\n",
       "    </tr>\n",
       "    <tr>\n",
       "      <th>0.902349</th>\n",
       "      <td>0.064635</td>\n",
       "      <td>0.064359</td>\n",
       "      <td>0.066062</td>\n",
       "      <td>0.065166</td>\n",
       "      <td>0.293444</td>\n",
       "    </tr>\n",
       "    <tr>\n",
       "      <th>0.902399</th>\n",
       "      <td>0.066358</td>\n",
       "      <td>0.068024</td>\n",
       "      <td>0.068229</td>\n",
       "      <td>0.068373</td>\n",
       "      <td>0.511075</td>\n",
       "    </tr>\n",
       "    <tr>\n",
       "      <th>...</th>\n",
       "      <td>...</td>\n",
       "      <td>...</td>\n",
       "      <td>...</td>\n",
       "      <td>...</td>\n",
       "      <td>...</td>\n",
       "    </tr>\n",
       "    <tr>\n",
       "      <th>0.999802</th>\n",
       "      <td>0.721790</td>\n",
       "      <td>0.712367</td>\n",
       "      <td>0.728574</td>\n",
       "      <td>0.714146</td>\n",
       "      <td>0.089569</td>\n",
       "    </tr>\n",
       "    <tr>\n",
       "      <th>0.999852</th>\n",
       "      <td>0.728304</td>\n",
       "      <td>0.727474</td>\n",
       "      <td>0.749798</td>\n",
       "      <td>0.717438</td>\n",
       "      <td>0.108660</td>\n",
       "    </tr>\n",
       "    <tr>\n",
       "      <th>0.999901</th>\n",
       "      <td>0.725152</td>\n",
       "      <td>0.707414</td>\n",
       "      <td>0.715460</td>\n",
       "      <td>0.691973</td>\n",
       "      <td>0.108209</td>\n",
       "    </tr>\n",
       "    <tr>\n",
       "      <th>0.999951</th>\n",
       "      <td>0.677642</td>\n",
       "      <td>0.664326</td>\n",
       "      <td>0.597167</td>\n",
       "      <td>0.593298</td>\n",
       "      <td>0.320342</td>\n",
       "    </tr>\n",
       "    <tr>\n",
       "      <th>1.000000</th>\n",
       "      <td>0.627926</td>\n",
       "      <td>0.625333</td>\n",
       "      <td>0.636358</td>\n",
       "      <td>0.615054</td>\n",
       "      <td>0.179223</td>\n",
       "    </tr>\n",
       "  </tbody>\n",
       "</table>\n",
       "<p>1365 rows × 5 columns</p>\n",
       "</div>"
      ],
      "text/plain": [
       "              Open      High       Low     Close    Volume\n",
       "Date                                                      \n",
       "0.902102  0.059466  0.058774  0.061450  0.059776  0.156421\n",
       "0.902152  0.061708  0.061953  0.063666  0.061547  0.291744\n",
       "0.902300  0.061703  0.061620  0.064115  0.062732  0.166282\n",
       "0.902349  0.064635  0.064359  0.066062  0.065166  0.293444\n",
       "0.902399  0.066358  0.068024  0.068229  0.068373  0.511075\n",
       "...            ...       ...       ...       ...       ...\n",
       "0.999802  0.721790  0.712367  0.728574  0.714146  0.089569\n",
       "0.999852  0.728304  0.727474  0.749798  0.717438  0.108660\n",
       "0.999901  0.725152  0.707414  0.715460  0.691973  0.108209\n",
       "0.999951  0.677642  0.664326  0.597167  0.593298  0.320342\n",
       "1.000000  0.627926  0.625333  0.636358  0.615054  0.179223\n",
       "\n",
       "[1365 rows x 5 columns]"
      ]
     },
     "execution_count": 11,
     "metadata": {},
     "output_type": "execute_result"
    }
   ],
   "source": [
    "tsla_hist"
   ]
  },
  {
   "cell_type": "code",
   "execution_count": 13,
   "id": "3c092330",
   "metadata": {},
   "outputs": [],
   "source": [
    "class MLP(nn.Module):\n",
    "    def __init__(self, input_features, hidden_features, output_features):\n",
    "        super().__init__()\n",
    "        self.l1 = nn.Sequential(\n",
    "            nn.Linear(input_features, hidden_features),\n",
    "            nn.ReLU()\n",
    "        )\n",
    "        self.l2 = nn.Sequential(\n",
    "            nn.Linear(hidden_features, output_features),\n",
    "            nn.Relu()\n",
    "        )\n",
    "\n",
    "    def forward(self, x):\n",
    "        x = self.l1(x)\n",
    "        x = self.l2(x)\n",
    "        return x"
   ]
  },
  {
   "cell_type": "code",
   "execution_count": 14,
   "id": "190d232b",
   "metadata": {},
   "outputs": [],
   "source": [
    "X = tsla_hist.drop(columns=['Close'])\n",
    "y = tsla_hist['Close']"
   ]
  },
  {
   "cell_type": "code",
   "execution_count": null,
   "id": "100f8c90",
   "metadata": {},
   "outputs": [],
   "source": [
    "from sklearn.model_selection import train_test_split\n",
    "\n",
    "X_train, X_test, y_train, y_test = train_test_split(X, y, test_size=0.2, stratify=y, random_state=69)"
   ]
  }
 ],
 "metadata": {
  "kernelspec": {
   "display_name": "base",
   "language": "python",
   "name": "python3"
  },
  "language_info": {
   "codemirror_mode": {
    "name": "ipython",
    "version": 3
   },
   "file_extension": ".py",
   "mimetype": "text/x-python",
   "name": "python",
   "nbconvert_exporter": "python",
   "pygments_lexer": "ipython3",
   "version": "3.12.7"
  }
 },
 "nbformat": 4,
 "nbformat_minor": 5
}
