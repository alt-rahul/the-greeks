{
 "cells": [
  {
   "cell_type": "code",
   "execution_count": 137,
   "id": "32898664",
   "metadata": {},
   "outputs": [],
   "source": [
    "import torch \n",
    "import torch.nn as nn\n",
    "import numpy as np\n",
    "import pandas as pd\n",
    "import yfinance as yf"
   ]
  },
  {
   "cell_type": "code",
   "execution_count": 138,
   "id": "aa148476",
   "metadata": {},
   "outputs": [],
   "source": [
    "tsla = yf.Ticker(\"tsla\")\n",
    "\n",
    "tsla_hist = tsla.history(period='5y', interval='1d', end='2025-06-13')\n",
    "# tsla_hist"
   ]
  },
  {
   "cell_type": "code",
   "execution_count": 139,
   "id": "61b36e0e",
   "metadata": {},
   "outputs": [],
   "source": [
    "tsla_hist.drop(columns=['Dividends', 'Stock Splits'], inplace=True)"
   ]
  },
  {
   "cell_type": "code",
   "execution_count": 140,
   "id": "6e3f8550",
   "metadata": {},
   "outputs": [],
   "source": [
    "tsla_hist.index =pd.to_numeric(tsla_hist.index)\n",
    "tsla_hist.index = tsla_hist.index/(max(tsla_hist.index)) + 1"
   ]
  },
  {
   "cell_type": "code",
   "execution_count": 141,
   "id": "4f0799a5",
   "metadata": {},
   "outputs": [],
   "source": [
    "for col in tsla_hist.columns:\n",
    "    tsla_hist[col] = tsla_hist[col]/max(tsla_hist[col]) + 1"
   ]
  },
  {
   "cell_type": "code",
   "execution_count": 142,
   "id": "190d232b",
   "metadata": {},
   "outputs": [],
   "source": [
    "X = tsla_hist.drop(columns=['Close'])\n",
    "y = tsla_hist['Close']"
   ]
  },
  {
   "cell_type": "code",
   "execution_count": 143,
   "id": "3f8e18b0",
   "metadata": {},
   "outputs": [],
   "source": [
    "X['Date'] = X.index"
   ]
  },
  {
   "cell_type": "code",
   "execution_count": 144,
   "id": "3ba02489",
   "metadata": {},
   "outputs": [],
   "source": [
    "for delay in range(1,4):\n",
    "    X[f\"Delay {delay}\"] = y.iloc[(3-delay):-(delay)]"
   ]
  },
  {
   "cell_type": "code",
   "execution_count": 145,
   "id": "0bbb3c0b",
   "metadata": {},
   "outputs": [],
   "source": [
    "X_sample = [[d, h, l, o, vol, v1, v2, v3] for d, h, l, o, vol, v1, v2, v3 in zip(X['Date'].iloc[3:].values, X['High'].iloc[3:].values, X['Low'].iloc[3:].values,X['Open'].iloc[3:].values, X['Volume'].iloc[3:].values, X['Delay 1'].dropna().values, X['Delay 2'].dropna().values, X['Delay 3'].dropna().values)]\n",
    "y_sample = y.iloc[3:].values"
   ]
  },
  {
   "cell_type": "code",
   "execution_count": 146,
   "id": "d7e29845",
   "metadata": {},
   "outputs": [
    {
     "data": {
      "text/plain": [
       "(1252, 1252)"
      ]
     },
     "execution_count": 146,
     "metadata": {},
     "output_type": "execute_result"
    }
   ],
   "source": [
    "len(X['Date'].iloc[3:].values), len(X_sample)"
   ]
  },
  {
   "cell_type": "code",
   "execution_count": 147,
   "id": "934a728f",
   "metadata": {},
   "outputs": [
    {
     "data": {
      "text/plain": [
       "(1252, 1252)"
      ]
     },
     "execution_count": 147,
     "metadata": {},
     "output_type": "execute_result"
    }
   ],
   "source": [
    "len(y_sample), len(X_sample)"
   ]
  },
  {
   "cell_type": "code",
   "execution_count": 148,
   "id": "9cf23983",
   "metadata": {},
   "outputs": [],
   "source": [
    "torch.set_default_dtype(torch.float64)"
   ]
  },
  {
   "cell_type": "code",
   "execution_count": 149,
   "id": "33265382",
   "metadata": {},
   "outputs": [],
   "source": [
    "X = torch.from_numpy(np.array(X))\n",
    "y = torch.from_numpy(np.array(y))"
   ]
  },
  {
   "cell_type": "code",
   "execution_count": 150,
   "id": "e53489db",
   "metadata": {},
   "outputs": [],
   "source": [
    "from sklearn.model_selection import train_test_split\n",
    "\n",
    "X_train, X_test, y_train, y_test = train_test_split(X, y, test_size=0.2)"
   ]
  },
  {
   "cell_type": "code",
   "execution_count": 151,
   "id": "7c6221ec",
   "metadata": {},
   "outputs": [],
   "source": [
    "train_data = [(X,y) for X, y in zip(X[:-273], y[:-273])]\n",
    "test_data = [(X,y) for X, y in zip(X[-273:], y[-273:])]"
   ]
  },
  {
   "cell_type": "code",
   "execution_count": 152,
   "id": "ca295ea8",
   "metadata": {},
   "outputs": [],
   "source": [
    "def fill_nan_values(dataset):\n",
    "    nan_indexes = []\n",
    "    for tup in range(len(dataset)):\n",
    "        if (torch.any(dataset[tup][0].isnan(), dim=0)):\n",
    "            print(f\"Found a nan value at index {tup}\")\n",
    "            nan_indexes.append(tup)\n",
    "    \n",
    "    for i in nan_indexes:\n",
    "        temp_tensor = torch.nan_to_num(dataset[i][0], nan=1)\n",
    "        temp_tuple = (temp_tensor, dataset[i][1])\n",
    "        dataset[i] = temp_tuple\n",
    "        print(f\"Replaced X & y at index {i}\")"
   ]
  },
  {
   "cell_type": "code",
   "execution_count": 153,
   "id": "d1831915",
   "metadata": {},
   "outputs": [
    {
     "name": "stdout",
     "output_type": "stream",
     "text": [
      "Found a nan value at index 0\n",
      "Found a nan value at index 1\n",
      "Replaced X & y at index 0\n",
      "Replaced X & y at index 1\n",
      "Found a nan value at index 270\n",
      "Found a nan value at index 271\n",
      "Found a nan value at index 272\n",
      "Replaced X & y at index 270\n",
      "Replaced X & y at index 271\n",
      "Replaced X & y at index 272\n"
     ]
    }
   ],
   "source": [
    "fill_nan_values(train_data)\n",
    "fill_nan_values(test_data)"
   ]
  },
  {
   "cell_type": "code",
   "execution_count": 154,
   "id": "266a8097",
   "metadata": {},
   "outputs": [],
   "source": [
    "from torch.utils.data import DataLoader\n",
    "\n",
    "train_dataloader = DataLoader(train_data, batch_size=32,)\n",
    "test_dataloader= DataLoader(test_data, batch_size=32,)"
   ]
  },
  {
   "cell_type": "code",
   "execution_count": 155,
   "id": "e9a33041",
   "metadata": {},
   "outputs": [],
   "source": [
    "count = 0\n",
    "batch = 0\n",
    "for (X, y) in train_dataloader:\n",
    "    if (torch.any(X.isnan())):\n",
    "        print(f\"Found on batch: {batch}\")\n",
    "        print(X)\n",
    "        print(torch.nan_to_num(X, nan=0))\n",
    "        count+=1\n",
    "    batch +=1\n"
   ]
  },
  {
   "cell_type": "code",
   "execution_count": 156,
   "id": "3c092330",
   "metadata": {},
   "outputs": [],
   "source": [
    "class MLP(nn.Module):\n",
    "    def __init__(self, input_features, hidden_features, output_features):\n",
    "        super().__init__()\n",
    "        self.l1 = nn.Sequential(\n",
    "            nn.Linear(input_features, hidden_features),\n",
    "            nn.ReLU()\n",
    "        )\n",
    "        self.l2 = nn.Sequential(\n",
    "            nn.Linear(hidden_features, 15),\n",
    "            nn.ReLU()\n",
    "        )\n",
    "        self.l3 = nn.Linear(15, output_features)\n",
    "\n",
    "    def forward(self, x):\n",
    "        x = self.l1(x)\n",
    "        x = self.l2(x)\n",
    "        x = self.l3(x)\n",
    "        return x"
   ]
  },
  {
   "cell_type": "code",
   "execution_count": 157,
   "id": "d68cb6b9",
   "metadata": {},
   "outputs": [],
   "source": [
    "mlpmodel = MLP(8, 30, 1)"
   ]
  },
  {
   "cell_type": "code",
   "execution_count": 158,
   "id": "3b7d0d82",
   "metadata": {},
   "outputs": [],
   "source": [
    "loss_fn = nn.MSELoss()\n",
    "\n",
    "optimizer = torch.optim.SGD(params=mlpmodel.parameters(), lr=0.01)"
   ]
  },
  {
   "cell_type": "code",
   "execution_count": 159,
   "id": "943158f6",
   "metadata": {},
   "outputs": [
    {
     "name": "stdout",
     "output_type": "stream",
     "text": [
      "We're on batch: 0 + Loss: inf\n",
      "We're on batch: 1 + Loss: 3.2556098491744967\n",
      "We're on batch: 2 + Loss: 2.300039698112191\n",
      "We're on batch: 3 + Loss: 1.979728436246897\n",
      "We're on batch: 4 + Loss: 1.8594580256795221\n",
      "We're on batch: 5 + Loss: 1.7154895198244577\n",
      "We're on batch: 6 + Loss: 1.5847503164340353\n",
      "We're on batch: 7 + Loss: 1.4549818590659531\n",
      "We're on batch: 8 + Loss: 1.3471308785338068\n",
      "We're on batch: 9 + Loss: 1.2521085226409736\n",
      "We're on batch: 10 + Loss: 1.1768695434732925\n",
      "We're on batch: 11 + Loss: 1.1044505252737313\n",
      "We're on batch: 12 + Loss: 1.029173405148924\n",
      "We're on batch: 13 + Loss: 0.9568478275420318\n",
      "We're on batch: 14 + Loss: 0.8924819364234536\n",
      "We're on batch: 15 + Loss: 0.8334045721512722\n",
      "We're on batch: 16 + Loss: 0.7819727761280435\n",
      "We're on batch: 17 + Loss: 0.7364580619780047\n",
      "We're on batch: 18 + Loss: 0.6955830510848489\n",
      "We're on batch: 19 + Loss: 0.6593158604222848\n",
      "We're on batch: 20 + Loss: 0.6265523235269099\n",
      "We're on batch: 21 + Loss: 0.5967267717121606\n",
      "We're on batch: 22 + Loss: 0.5696381226037258\n",
      "We're on batch: 23 + Loss: 0.5450427315168959\n",
      "We're on batch: 24 + Loss: 0.5224695575338238\n",
      "We're on batch: 25 + Loss: 0.501636742128294\n",
      "We're on batch: 26 + Loss: 0.48235842706438803\n",
      "We're on batch: 27 + Loss: 0.46450540623347386\n",
      "We're on batch: 28 + Loss: 0.4479714947749582\n",
      "We're on batch: 29 + Loss: 0.4326121636267964\n",
      "We're on batch: 30 + Loss: 0.418262379314088\n"
     ]
    }
   ],
   "source": [
    "EPOCHS = 1\n",
    "\n",
    "mlpmodel.train()\n",
    "for epoch in range(EPOCHS):\n",
    "    total_loss = 0\n",
    "    for batch, (X, y) in enumerate(train_dataloader):\n",
    "        preds = mlpmodel(X)\n",
    "        # print(f\"Preds + {preds}\")\n",
    "        loss = loss_fn(torch.unsqueeze(y, 1), preds)\n",
    "        total_loss+= loss\n",
    "        optimizer.zero_grad()\n",
    "        loss.backward()\n",
    "        optimizer.step()\n",
    "\n",
    "        print(f\"We're on batch: {batch} + Loss: {total_loss/batch}\")\n"
   ]
  },
  {
   "cell_type": "code",
   "execution_count": 160,
   "id": "1949d848",
   "metadata": {},
   "outputs": [
    {
     "name": "stdout",
     "output_type": "stream",
     "text": [
      "On Batch: 0 + With Loss: inf\n",
      "On Batch: 1 + With Loss: 0.0012542051954973802\n",
      "On Batch: 2 + With Loss: 0.0007359000073950883\n",
      "On Batch: 3 + With Loss: 0.0017022541177891485\n",
      "On Batch: 4 + With Loss: 0.010694634939882184\n",
      "On Batch: 5 + With Loss: 0.007655449466019887\n",
      "On Batch: 6 + With Loss: 0.0007012798090828775\n",
      "On Batch: 7 + With Loss: 0.001427795442662036\n",
      "On Batch: 8 + With Loss: 0.002959751687454326\n"
     ]
    }
   ],
   "source": [
    "with torch.inference_mode():\n",
    "    mlpmodel.eval()\n",
    "    for batch, (X, y) in enumerate(test_dataloader):\n",
    "        preds = mlpmodel(X)\n",
    "        loss = loss_fn(torch.unsqueeze(y, dim=1), preds)\n",
    "        print(f\"On Batch: {batch} + With Loss: {loss/batch}\")"
   ]
  },
  {
   "cell_type": "code",
   "execution_count": null,
   "id": "55d24653",
   "metadata": {},
   "outputs": [],
   "source": []
  }
 ],
 "metadata": {
  "kernelspec": {
   "display_name": "base",
   "language": "python",
   "name": "python3"
  },
  "language_info": {
   "codemirror_mode": {
    "name": "ipython",
    "version": 3
   },
   "file_extension": ".py",
   "mimetype": "text/x-python",
   "name": "python",
   "nbconvert_exporter": "python",
   "pygments_lexer": "ipython3",
   "version": "3.12.7"
  }
 },
 "nbformat": 4,
 "nbformat_minor": 5
}
